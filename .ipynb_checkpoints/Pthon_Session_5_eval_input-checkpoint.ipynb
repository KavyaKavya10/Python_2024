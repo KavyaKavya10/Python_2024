{
 "cells": [
  {
   "cell_type": "code",
   "execution_count": 3,
   "id": "3d2830eb-e286-4627-bf81-5442690f1284",
   "metadata": {},
   "outputs": [],
   "source": [
    "num1=100\n",
    "num2=200\n",
    "add=num1+num2"
   ]
  },
  {
   "cell_type": "markdown",
   "id": "3c063022-8797-47fb-b25e-c8aa2200534e",
   "metadata": {},
   "source": [
    "$Input$\n",
    "\n",
    "- input keyword is used to take the values from user"
   ]
  },
  {
   "cell_type": "code",
   "execution_count": 6,
   "id": "be5f152b-de7b-4138-94bf-01d9c8dc13fe",
   "metadata": {},
   "outputs": [
    {
     "name": "stdin",
     "output_type": "stream",
     "text": [
      " 100\n"
     ]
    },
    {
     "data": {
      "text/plain": [
       "'100'"
      ]
     },
     "execution_count": 6,
     "metadata": {},
     "output_type": "execute_result"
    }
   ],
   "source": [
    "input()"
   ]
  },
  {
   "cell_type": "code",
   "execution_count": 7,
   "id": "58393ff3-f982-4865-9081-c7c12c1decb4",
   "metadata": {},
   "outputs": [
    {
     "name": "stdin",
     "output_type": "stream",
     "text": [
      "enter the number: 100\n"
     ]
    },
    {
     "data": {
      "text/plain": [
       "'100'"
      ]
     },
     "execution_count": 7,
     "metadata": {},
     "output_type": "execute_result"
    }
   ],
   "source": [
    "input(\"enter the number:\")"
   ]
  },
  {
   "cell_type": "code",
   "execution_count": 8,
   "id": "3001e3fc-79b4-45eb-9fc2-e7bbed88fffa",
   "metadata": {},
   "outputs": [
    {
     "name": "stdin",
     "output_type": "stream",
     "text": [
      " 100\n",
      " 200\n"
     ]
    },
    {
     "data": {
      "text/plain": [
       "'200'"
      ]
     },
     "execution_count": 8,
     "metadata": {},
     "output_type": "execute_result"
    }
   ],
   "source": [
    "input()\n",
    "input()"
   ]
  },
  {
   "cell_type": "code",
   "execution_count": 9,
   "id": "49f98504-e08e-4bb8-8a43-4be7ebe921c3",
   "metadata": {},
   "outputs": [
    {
     "name": "stdin",
     "output_type": "stream",
     "text": [
      " 100\n",
      " 200\n",
      " 300\n"
     ]
    },
    {
     "data": {
      "text/plain": [
       "'300'"
      ]
     },
     "execution_count": 9,
     "metadata": {},
     "output_type": "execute_result"
    }
   ],
   "source": [
    "input()\n",
    "input()\n",
    "input()"
   ]
  },
  {
   "cell_type": "code",
   "execution_count": 10,
   "id": "ee795045-3709-4fb4-a467-5371dbb7b51f",
   "metadata": {},
   "outputs": [
    {
     "name": "stdin",
     "output_type": "stream",
     "text": [
      "enter the num1: 100\n",
      "enter the num2: 150\n",
      "enter the num3: 200\n"
     ]
    },
    {
     "data": {
      "text/plain": [
       "'200'"
      ]
     },
     "execution_count": 10,
     "metadata": {},
     "output_type": "execute_result"
    }
   ],
   "source": [
    "input(\"enter the num1:\")\n",
    "input(\"enter the num2:\")\n",
    "input(\"enter the num3:\")"
   ]
  },
  {
   "cell_type": "code",
   "execution_count": 12,
   "id": "04646443-2b02-4490-8ada-028476d16e0a",
   "metadata": {},
   "outputs": [
    {
     "name": "stdin",
     "output_type": "stream",
     "text": [
      "entre the num1: 100\n"
     ]
    }
   ],
   "source": [
    "num=input(\"entre the num1:\")"
   ]
  },
  {
   "cell_type": "code",
   "execution_count": 14,
   "id": "a17e23ed-6959-4035-9215-afba1153a455",
   "metadata": {},
   "outputs": [
    {
     "data": {
      "text/plain": [
       "'100'"
      ]
     },
     "execution_count": 14,
     "metadata": {},
     "output_type": "execute_result"
    }
   ],
   "source": [
    "num"
   ]
  },
  {
   "cell_type": "markdown",
   "id": "0ac50068-fc5e-4904-8391-406cce26651e",
   "metadata": {},
   "source": [
    "**Note**\n",
    "\n",
    "- input always give the string data type only\n",
    "\n",
    "- in order  to perform math calculations we need to convert into numerical format i.e int or float"
   ]
  },
  {
   "cell_type": "code",
   "execution_count": 15,
   "id": "31edf7f6-aaf8-421f-ba03-d99fa7f11926",
   "metadata": {},
   "outputs": [
    {
     "name": "stdin",
     "output_type": "stream",
     "text": [
      "entre the num1: 100\n"
     ]
    },
    {
     "data": {
      "text/plain": [
       "'100'"
      ]
     },
     "execution_count": 15,
     "metadata": {},
     "output_type": "execute_result"
    }
   ],
   "source": [
    "a=input(\"entre the num1:\")\n",
    "a"
   ]
  },
  {
   "cell_type": "code",
   "execution_count": null,
   "id": "0f35ee22-d19f-4b73-bd08-ea5dcb94b355",
   "metadata": {},
   "outputs": [],
   "source": [
    "input()\n",
    "input(\"enter the num1:\")\n",
    "a=input(\"entre the num1:\")"
   ]
  },
  {
   "cell_type": "code",
   "execution_count": 2,
   "id": "94d2e3da-677e-40e5-b72f-e082b48bf7b6",
   "metadata": {},
   "outputs": [
    {
     "name": "stdin",
     "output_type": "stream",
     "text": [
      "entre the num1: 100\n",
      "entre the num2: 200\n"
     ]
    },
    {
     "data": {
      "text/plain": [
       "'100200'"
      ]
     },
     "execution_count": 2,
     "metadata": {},
     "output_type": "execute_result"
    }
   ],
   "source": [
    "num1=input(\"entre the num1:\") # num1='100'\n",
    "num2=input(\"entre the num2:\") # num2='200'\n",
    "num1+num2 # '100'+'200'='100200'"
   ]
  },
  {
   "cell_type": "code",
   "execution_count": 17,
   "id": "86872bea-6231-4f21-b71a-895be55ec7b7",
   "metadata": {},
   "outputs": [
    {
     "name": "stdin",
     "output_type": "stream",
     "text": [
      "entre the num1: 100\n",
      "entre the num2: 200\n"
     ]
    },
    {
     "data": {
      "text/plain": [
       "300"
      ]
     },
     "execution_count": 17,
     "metadata": {},
     "output_type": "execute_result"
    }
   ],
   "source": [
    "num1=int(input(\"entre the num1:\")) # num1=int('100')=100\n",
    "num2=int(input(\"entre the num2:\")) # num2=int('200')=200\n",
    "num1+num2 # 100+200=300"
   ]
  },
  {
   "cell_type": "code",
   "execution_count": 18,
   "id": "023fc449-2808-4e42-8111-8383fa9d6202",
   "metadata": {},
   "outputs": [
    {
     "name": "stdin",
     "output_type": "stream",
     "text": [
      "entre the num1: 100\n",
      "entre the num2: 200\n"
     ]
    },
    {
     "name": "stdout",
     "output_type": "stream",
     "text": [
      "The addition of 100 and 200 is 300\n"
     ]
    }
   ],
   "source": [
    "num1=int(input(\"entre the num1:\")) # num1=int('100')=100\n",
    "num2=int(input(\"entre the num2:\")) # num2=int('200')=200\n",
    "add=num1+num2 # 100+200=300\n",
    "print(f\"The addition of {num1} and {num2} is {add}\")"
   ]
  },
  {
   "cell_type": "code",
   "execution_count": 19,
   "id": "b3d4b2d8-f395-48d5-8fad-5d159bbb4dc7",
   "metadata": {},
   "outputs": [
    {
     "name": "stdin",
     "output_type": "stream",
     "text": [
      "entre the num1: 100\n",
      "entre the num2: 200\n"
     ]
    },
    {
     "data": {
      "text/plain": [
       "300"
      ]
     },
     "execution_count": 19,
     "metadata": {},
     "output_type": "execute_result"
    }
   ],
   "source": [
    "num1=input(\"entre the num1:\") # num1='100'\n",
    "num2=input(\"entre the num2:\") # num2='200'\n",
    "int(num1)+int(num2) # int('100')+int('200')=100+200"
   ]
  },
  {
   "cell_type": "markdown",
   "id": "1ed1f9d8-9357-4c84-b66b-e8c1db0764e3",
   "metadata": {},
   "source": [
    "$eval$\n",
    "- eval means evaluate\n",
    "\n",
    "- whatever the number we enter,eval will convert to corresponding data type"
   ]
  },
  {
   "cell_type": "code",
   "execution_count": 21,
   "id": "aa648d94-5f23-4713-8fb2-ec1a9e7a148f",
   "metadata": {},
   "outputs": [
    {
     "name": "stdin",
     "output_type": "stream",
     "text": [
      " 100.8\n"
     ]
    },
    {
     "data": {
      "text/plain": [
       "100.8"
      ]
     },
     "execution_count": 21,
     "metadata": {},
     "output_type": "execute_result"
    }
   ],
   "source": [
    "eval(input())"
   ]
  },
  {
   "cell_type": "code",
   "execution_count": 23,
   "id": "6a0e8982-19b7-4278-a593-1f9f61bc8d32",
   "metadata": {},
   "outputs": [
    {
     "name": "stdin",
     "output_type": "stream",
     "text": [
      "entre the num1: 100.5\n",
      "entre the num2: 100.5\n"
     ]
    },
    {
     "name": "stdout",
     "output_type": "stream",
     "text": [
      "The addition of 100.5 and 100.5 is 201.0\n"
     ]
    }
   ],
   "source": [
    "num1=eval(input(\"entre the num1:\"))\n",
    "num2=eval(input(\"entre the num2:\"))\n",
    "add=num1+num2 \n",
    "print(f\"The addition of {num1} and {num2} is {add}\")"
   ]
  },
  {
   "cell_type": "code",
   "execution_count": null,
   "id": "b857b1e9-4d2e-48ae-8715-c709cd9aa2fd",
   "metadata": {},
   "outputs": [],
   "source": [
    "# write a program ask the user enter 3 numbers calculate average\n",
    "# wap ask the user enter the 2 numbers find the substract,addition,multplication,division\n",
    "# wap ask the user enter radius value find the area of the circle\n",
    "# wap ask the user bill amount,\n",
    "# ask the user how much tip you want pay in percentage\n",
    "# calculate totalbill\n",
    "# wap ask the user bill amount in dollars\n",
    "# ask the user onedollar\n",
    "# print the bill amount in rupees\n",
    "#wap ask the user enter base height calculate area of the traingle\n",
    "#wap ask the user enter length and breadth calculate area of the rectangle"
   ]
  },
  {
   "cell_type": "code",
   "execution_count": 35,
   "id": "544bc979-dce8-4ddf-a24c-cd07faaa76a0",
   "metadata": {},
   "outputs": [
    {
     "name": "stdin",
     "output_type": "stream",
     "text": [
      "entre the n1: 10\n",
      "entre the n2: 20\n",
      "entre the n3: 30\n"
     ]
    },
    {
     "name": "stdout",
     "output_type": "stream",
     "text": [
      "the averege is 20.0\n"
     ]
    }
   ],
   "source": [
    "n1=eval(input(\"entre the n1:\"))\n",
    "n2=eval(input(\"entre the n2:\"))\n",
    "n3=eval(input(\"entre the n3:\"))\n",
    "average=(n1+n2+n3)/3\n",
    "print(f\"the averege is {average}\") "
   ]
  },
  {
   "cell_type": "code",
   "execution_count": 26,
   "id": "f4eaf230-6e6a-49aa-a1ab-f2e0f766dd78",
   "metadata": {},
   "outputs": [
    {
     "name": "stdin",
     "output_type": "stream",
     "text": [
      "entre the n1: 50\n",
      "entre the n2: 50\n"
     ]
    },
    {
     "name": "stdout",
     "output_type": "stream",
     "text": [
      "addition= 100 substraction=0 multplication=2500 division=1.0\n"
     ]
    }
   ],
   "source": [
    "n1=eval(input(\"entre the n1:\"))\n",
    "n2=eval(input(\"entre the n2:\"))\n",
    "add=n1+n2\n",
    "sub=n1-n2\n",
    "mul=n1*n2\n",
    "div=n1/n2\n",
    "print(f\"addition= {add} substraction={sub} multplication={mul} division={div}\")"
   ]
  },
  {
   "cell_type": "code",
   "execution_count": 27,
   "id": "c88d4ec4-30fb-439f-8fac-8f3a4210509e",
   "metadata": {},
   "outputs": [
    {
     "name": "stdin",
     "output_type": "stream",
     "text": [
      "enter th radius: 10\n"
     ]
    },
    {
     "name": "stdout",
     "output_type": "stream",
     "text": [
      "the area of the circle is 314.0\n"
     ]
    }
   ],
   "source": [
    "pi_value=3.14\n",
    "radius=eval(input(\"enter th radius:\"))\n",
    "area_circle=pi_value*radius*radius\n",
    "print(f\"the area of the circle is {area_circle}\")"
   ]
  },
  {
   "cell_type": "code",
   "execution_count": 28,
   "id": "85fc6334-20bd-4d23-95d0-693171e935d5",
   "metadata": {},
   "outputs": [
    {
     "name": "stdin",
     "output_type": "stream",
     "text": [
      "enter the bill amount: 1000\n"
     ]
    }
   ],
   "source": [
    "bill=eval(input(\"enter the bill amount:\"))\n"
   ]
  },
  {
   "cell_type": "code",
   "execution_count": 29,
   "id": "5372b9d0-3a53-4c29-b12b-0ad2ba1a411d",
   "metadata": {},
   "outputs": [
    {
     "name": "stdin",
     "output_type": "stream",
     "text": [
      "enter the tip you want to pay: 10\n"
     ]
    }
   ],
   "source": [
    "tip=eval(input(\"enter the tip you want to pay:\"))"
   ]
  },
  {
   "cell_type": "code",
   "execution_count": 31,
   "id": "9d8e3a41-266b-4ad8-9149-77d3549bd8e9",
   "metadata": {},
   "outputs": [
    {
     "name": "stdout",
     "output_type": "stream",
     "text": [
      "1100.0\n"
     ]
    }
   ],
   "source": [
    "tip_amount=tip/100*(bill)\n",
    "total_bill=tip_amount+bill\n",
    "print(total_bill)"
   ]
  },
  {
   "cell_type": "code",
   "execution_count": 32,
   "id": "20c604c0-6def-44ca-aa21-63cff7eeacf0",
   "metadata": {},
   "outputs": [
    {
     "name": "stdin",
     "output_type": "stream",
     "text": [
      "enter the bill amount: 1000\n",
      "enter the tip you want to pay: 10\n"
     ]
    },
    {
     "name": "stdout",
     "output_type": "stream",
     "text": [
      "1100.0\n"
     ]
    }
   ],
   "source": [
    "bill=eval(input(\"enter the bill amount:\"))\n",
    "tip=eval(input(\"enter the tip you want to pay:\"))\n",
    "tip_amount=tip/100*(bill)\n",
    "total_bill=tip_amount+bill\n",
    "print(total_bill)"
   ]
  },
  {
   "cell_type": "code",
   "execution_count": 33,
   "id": "af152d2c-27e5-45e3-89e6-3c13ee6e5eee",
   "metadata": {},
   "outputs": [
    {
     "name": "stdin",
     "output_type": "stream",
     "text": [
      "enter the base of traingle: 10\n",
      "enter the height of traingle: 20\n"
     ]
    },
    {
     "name": "stdout",
     "output_type": "stream",
     "text": [
      "area of the traingle is 100.0\n"
     ]
    }
   ],
   "source": [
    "base=eval(input(\"enter the base of traingle:\"))\n",
    "height=eval(input(\"enter the height of traingle:\"))\n",
    "area_traingle=1/2*base*height\n",
    "print(f\"area of the traingle is {area_traingle}\")"
   ]
  },
  {
   "cell_type": "code",
   "execution_count": 34,
   "id": "c29720c6-6a3e-41a3-b53d-f7c40e6a2cb2",
   "metadata": {},
   "outputs": [
    {
     "name": "stdin",
     "output_type": "stream",
     "text": [
      "enter the length of rectangle: 10\n",
      "enter the breadth of rectangle: 15\n"
     ]
    },
    {
     "name": "stdout",
     "output_type": "stream",
     "text": [
      "area of the traingle is 150\n"
     ]
    }
   ],
   "source": [
    "length=eval(input(\"enter the length of rectangle:\"))\n",
    "breadth=eval(input(\"enter the breadth of rectangle:\"))\n",
    "area_rectangle=length*breadth\n",
    "print(f\"area of the traingle is {area_rectangle}\")"
   ]
  },
  {
   "cell_type": "code",
   "execution_count": null,
   "id": "5266ca63-4a11-4ab2-9199-014fe7bf2dfd",
   "metadata": {},
   "outputs": [],
   "source": []
  }
 ],
 "metadata": {
  "kernelspec": {
   "display_name": "Python 3 (ipykernel)",
   "language": "python",
   "name": "python3"
  },
  "language_info": {
   "codemirror_mode": {
    "name": "ipython",
    "version": 3
   },
   "file_extension": ".py",
   "mimetype": "text/x-python",
   "name": "python",
   "nbconvert_exporter": "python",
   "pygments_lexer": "ipython3",
   "version": "3.11.7"
  }
 },
 "nbformat": 4,
 "nbformat_minor": 5
}
