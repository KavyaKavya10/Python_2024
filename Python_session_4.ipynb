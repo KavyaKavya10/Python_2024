{
 "cells": [
  {
   "cell_type": "code",
   "execution_count": null,
   "id": "6c723190-b599-4440-a90e-c3f50a361685",
   "metadata": {},
   "outputs": [],
   "source": [
    "num1=100\n",
    "num2=200\n",
    "average=(num1+num2)/2\n",
    "# the average of 100 and 200 is: 150"
   ]
  },
  {
   "cell_type": "code",
   "execution_count": 3,
   "id": "19d3e21f-110a-4348-819b-622d895067c9",
   "metadata": {},
   "outputs": [
    {
     "name": "stdout",
     "output_type": "stream",
     "text": [
      "the average of 100 and 200 is: 150.0\n"
     ]
    }
   ],
   "source": [
    "num1=100\n",
    "num2=200\n",
    "average=(num1+num2)/2\n",
    "print(f\"the average of {num1} and {num2} is: {average}\")"
   ]
  },
  {
   "cell_type": "code",
   "execution_count": 5,
   "id": "3b36a6a4-0525-4543-a587-a593137ab396",
   "metadata": {},
   "outputs": [
    {
     "name": "stdout",
     "output_type": "stream",
     "text": [
      "the average of 100 and 200 is: 150.0\n"
     ]
    }
   ],
   "source": [
    "num1=100\n",
    "num2=200\n",
    "average=(num1+num2)/2\n",
    "print(\"the average of {} and {} is: {}\".format(num1,num2,average))"
   ]
  },
  {
   "cell_type": "code",
   "execution_count": 8,
   "id": "7a23051d-f1f8-4201-a6ae-f8dc4cceb660",
   "metadata": {},
   "outputs": [
    {
     "name": "stdout",
     "output_type": "stream",
     "text": [
      "the area of circle is 314.0\n",
      "the area of circle is 314.0\n"
     ]
    }
   ],
   "source": [
    "# take radius of circle\n",
    "# take the pi value=3.14\n",
    "# find the area of the circle=pi*r*r\n",
    "radius=10\n",
    "pi_value=3.14\n",
    "area_circle=pi_value*radius*radius\n",
    "print(f\"the area of circle is {area_circle}\")\n",
    "print(\"the area of circle is {}\".format(area_circle))"
   ]
  },
  {
   "cell_type": "code",
   "execution_count": 10,
   "id": "1fc2cdf8-4d63-4c86-ac08-df418c40ca43",
   "metadata": {},
   "outputs": [
    {
     "name": "stdout",
     "output_type": "stream",
     "text": [
      "the area of traingle is 100.0\n",
      "the area of traingle is 100.0\n"
     ]
    }
   ],
   "source": [
    "# take the base of traingle\n",
    "# take the height of traingle\n",
    "# area of the traingle=1/2*base*height\n",
    "base=10\n",
    "height=20\n",
    "area=1/2*base*height\n",
    "print(f\"the area of traingle is {area}\")\n",
    "print(\"the area of traingle is {}\".format(area))"
   ]
  },
  {
   "cell_type": "code",
   "execution_count": 11,
   "id": "1a23998a-9087-45ec-a52c-4db79d156b34",
   "metadata": {},
   "outputs": [
    {
     "name": "stdout",
     "output_type": "stream",
     "text": [
      "the total bill is:1100.0\n"
     ]
    }
   ],
   "source": [
    "# take the bill amount=1000\n",
    "# take the tip_percentage=10\n",
    "# calculate tip_amount\n",
    "# calculate the total bill\n",
    "# print the total bill\n",
    "amount=1000\n",
    "tip_percentage=10\n",
    "tip_amount=tip_percentage/100*(amount)\n",
    "total_bill=amount+tip_amount\n",
    "print(f\"the total bill is:{total_bill}\")"
   ]
  },
  {
   "cell_type": "markdown",
   "id": "5b6e3ec3-6da4-45db-b2bc-237bd90fdcb0",
   "metadata": {},
   "source": [
    "$end$\n",
    "- combining multiple print statements in a single line"
   ]
  },
  {
   "cell_type": "code",
   "execution_count": 14,
   "id": "a311a3ad-7719-471c-87c5-cfcd6e722d78",
   "metadata": {},
   "outputs": [
    {
     "name": "stdout",
     "output_type": "stream",
     "text": [
      "10&20\n"
     ]
    }
   ],
   "source": [
    "print(10,end='&')\n",
    "print(20)"
   ]
  },
  {
   "cell_type": "code",
   "execution_count": 6,
   "id": "6f9233a7-19ba-4d81-a598-eab335036e83",
   "metadata": {},
   "outputs": [
    {
     "name": "stdout",
     "output_type": "stream",
     "text": [
      "10 20 30\n"
     ]
    }
   ],
   "source": [
    "print(10,end=' ')\n",
    "print(20,end=' ')\n",
    "print(30)"
   ]
  },
  {
   "cell_type": "markdown",
   "id": "06ffc045-b4ad-4e39-b23d-feaf7894f4de",
   "metadata": {},
   "source": [
    "$sep$\n",
    "\n",
    "-Seperate the multiple values in a single print statement"
   ]
  },
  {
   "cell_type": "code",
   "execution_count": 2,
   "id": "453b0fef-25ca-4644-b510-802fcfb259c8",
   "metadata": {},
   "outputs": [
    {
     "name": "stdout",
     "output_type": "stream",
     "text": [
      "102030\n"
     ]
    }
   ],
   "source": [
    "print(10,20,30,sep='')\n",
    "\n",
    "# 10 & 20 & 30"
   ]
  },
  {
   "cell_type": "code",
   "execution_count": 20,
   "id": "e7292903-60b7-4f1d-882c-032fc4f5efc5",
   "metadata": {},
   "outputs": [
    {
     "name": "stdout",
     "output_type": "stream",
     "text": [
      "10--->20--->30\n"
     ]
    }
   ],
   "source": [
    "print(10,20,30,sep='--->')"
   ]
  },
  {
   "cell_type": "code",
   "execution_count": 22,
   "id": "d216787b-f54a-4586-9283-7cdc5af29ec1",
   "metadata": {},
   "outputs": [
    {
     "name": "stdout",
     "output_type": "stream",
     "text": [
      "the addition of 5 amd 2 is 7.\n"
     ]
    }
   ],
   "source": [
    "print(f\"the addition of {5} amd {2} is {5+2}.\")"
   ]
  },
  {
   "cell_type": "code",
   "execution_count": 24,
   "id": "33588ec3-52b3-499d-be2b-f906fec79f60",
   "metadata": {},
   "outputs": [
    {
     "name": "stdout",
     "output_type": "stream",
     "text": [
      "the addition of 5 amd 2 is 7.\n"
     ]
    }
   ],
   "source": [
    "print(\"the addition of {} amd {} is {}.\".format(5,2,5+2))"
   ]
  },
  {
   "cell_type": "code",
   "execution_count": 26,
   "id": "a3d4118a-a27f-4700-93ea-bbdfc15094e4",
   "metadata": {},
   "outputs": [
    {
     "name": "stdout",
     "output_type": "stream",
     "text": [
      "the addition of 5 amd 3 is 8 .\n",
      "the addition of 5 amd 3 is 8.\n"
     ]
    }
   ],
   "source": [
    "print('the addition of 5 amd 3 is 8','.')\n",
    "\n",
    "print('the addition of 5 amd 3 is 8','.',sep='')"
   ]
  },
  {
   "cell_type": "code",
   "execution_count": null,
   "id": "27906d79-3d1f-4071-91c7-9a0c6de50d66",
   "metadata": {},
   "outputs": [],
   "source": []
  }
 ],
 "metadata": {
  "kernelspec": {
   "display_name": "Python 3 (ipykernel)",
   "language": "python",
   "name": "python3"
  },
  "language_info": {
   "codemirror_mode": {
    "name": "ipython",
    "version": 3
   },
   "file_extension": ".py",
   "mimetype": "text/x-python",
   "name": "python",
   "nbconvert_exporter": "python",
   "pygments_lexer": "ipython3",
   "version": "3.11.7"
  }
 },
 "nbformat": 4,
 "nbformat_minor": 5
}
