{
 "cells": [
  {
   "cell_type": "code",
   "execution_count": 4,
   "id": "8257b95e-f6b7-433a-b148-856d207d1e1a",
   "metadata": {},
   "outputs": [
    {
     "data": {
      "text/plain": [
       "30"
      ]
     },
     "execution_count": 4,
     "metadata": {},
     "output_type": "execute_result"
    }
   ],
   "source": [
    "a=10\n",
    "b=20\n",
    "c=a+b\n",
    "c"
   ]
  },
  {
   "cell_type": "code",
   "execution_count": 2,
   "id": "1c85a25e-9867-4773-9197-e078d403f2db",
   "metadata": {},
   "outputs": [
    {
     "data": {
      "text/plain": [
       "300"
      ]
     },
     "execution_count": 2,
     "metadata": {},
     "output_type": "execute_result"
    }
   ],
   "source": [
    "a=100\n",
    "b=200\n",
    "c=a+b\n",
    "c"
   ]
  },
  {
   "cell_type": "code",
   "execution_count": 3,
   "id": "edf719f4-6531-4f2b-95ca-68857ac8677f",
   "metadata": {},
   "outputs": [
    {
     "data": {
      "text/plain": [
       "72"
      ]
     },
     "execution_count": 3,
     "metadata": {},
     "output_type": "execute_result"
    }
   ],
   "source": [
    "n1=5\n",
    "n2=67\n",
    "n3=n1+n2\n",
    "n3"
   ]
  },
  {
   "cell_type": "markdown",
   "id": "bb86695f-c0e6-4ddf-877c-06ecbbaf2efd",
   "metadata": {},
   "source": [
    "im learning python today"
   ]
  },
  {
   "cell_type": "markdown",
   "id": "500b8d46-39e9-49a0-89cc-58fbe6a162c9",
   "metadata": {},
   "source": [
    "# python"
   ]
  },
  {
   "cell_type": "markdown",
   "id": "13658a74-d41f-4bd0-86d9-e7e1c6c5eeda",
   "metadata": {},
   "source": [
    "# python\n",
    "## python\n",
    "### python"
   ]
  },
  {
   "cell_type": "markdown",
   "id": "f2b7cdfb-2d42-4520-81d8-c6757eb1b207",
   "metadata": {},
   "source": [
    "- Today I learned how to open jupyter notebook\n",
    "\n",
    "- I created a folder for python\n",
    "\n",
    "- from tomorrow onwards i will open all my python notebooks in this folder only\n",
    "\n",
    "- I understood about the kernel\n",
    "\n",
    "- When kernel is busy i will not run any other code cell\n",
    "\n",
    "- beacause python kernel will run step by step\n",
    "\n",
    "- I also learned how to run the code cell using shift+enter\n",
    "\n",
    "- I also learned how to write the story in jupyter notebook\n",
    "\n",
    "- esc+m is the shortcut to code mode to markdown mode\n",
    "\n",
    "- esc+y is the shortcut to markdown mode to code mode"
   ]
  },
  {
   "cell_type": "code",
   "execution_count": 2,
   "id": "e1423ea7-94f8-4351-8307-6edf8c7952e4",
   "metadata": {},
   "outputs": [
    {
     "ename": "SyntaxError",
     "evalue": "invalid syntax (1185547435.py, line 1)",
     "output_type": "error",
     "traceback": [
      "\u001b[1;36m  Cell \u001b[1;32mIn[2], line 1\u001b[1;36m\u001b[0m\n\u001b[1;33m    <img src=\"https://r.bing.com/rp/Q5BJPjebyYN5QiqznkcMQmLrF9U.svg\" width=\"16\" height=\"16\" alt=\"Close dialog\" class=\"rms_img\" data-bm=\"134\">\u001b[0m\n\u001b[1;37m    ^\u001b[0m\n\u001b[1;31mSyntaxError\u001b[0m\u001b[1;31m:\u001b[0m invalid syntax\n"
     ]
    }
   ],
   "source": [
    "<img src=\"https://r.bing.com/rp/Q5BJPjebyYN5QiqznkcMQmLrF9U.svg\" width=\"16\" height=\"16\" alt=\"Close dialog\" class=\"rms_img\" data-bm=\"134\">"
   ]
  },
  {
   "cell_type": "markdown",
   "id": "5c111178-33ea-4472-a815-b864f88aa1c3",
   "metadata": {},
   "source": [
    "<img id=\"svctrlhvrplus\" role=\"presentation\" width=\"12\" height=\"12\" class=\"rms_img\" src=\"https://r.bing.com/rp/7M8U1L1EUrA1-JIlIT-zC_RS9mg.svg\">"
   ]
  },
  {
   "cell_type": "markdown",
   "id": "508dc2f0-a388-4917-96d1-5a5f8e185972",
   "metadata": {},
   "source": [
    "<img id=\"svctrlhvrplus\" role=\"presentation\" width=\"120\" height=\"120\" class=\"rms_img\" src=\"https://r.bing.com/rp/7M8U1L1EUrA1-JIlIT-zC_RS9mg.svg\">"
   ]
  },
  {
   "cell_type": "markdown",
   "id": "e17ccb4c-d8f2-451b-8a22-77c8f71cb115",
   "metadata": {},
   "source": [
    "<img id=\"redDotDisplay\" src=\"/red-dot-24.png\" alt=\"Animation\" width=\"200\" height=\"200\" data-bm=\"279\">"
   ]
  },
  {
   "cell_type": "markdown",
   "id": "f044e1ac-ca7f-442d-aac2-7c6a90d49b48",
   "metadata": {},
   "source": [
    "<img id=\"redDotDisplay\" src=\"/red-dot-24.png\" alt=\"Animation\" width=\"8px\" height=\"8px\" data-bm=\"263\">"
   ]
  },
  {
   "cell_type": "code",
   "execution_count": 6,
   "id": "36561331-11a3-4966-bd8e-fafc4f512fa5",
   "metadata": {},
   "outputs": [
    {
     "ename": "SyntaxError",
     "evalue": "invalid syntax (541150947.py, line 1)",
     "output_type": "error",
     "traceback": [
      "\u001b[1;36m  Cell \u001b[1;32mIn[6], line 1\u001b[1;36m\u001b[0m\n\u001b[1;33m    <img id=\"https://images.pexels.com/photos/268533/pexels-photo-268533.jpeg?auto=compress&amp;cs=tinysrgb&amp;dpr=1&amp;w=500\"\u001b[0m\n\u001b[1;37m    ^\u001b[0m\n\u001b[1;31mSyntaxError\u001b[0m\u001b[1;31m:\u001b[0m invalid syntax\n"
     ]
    }
   ],
   "source": [
    "<img src=\"https://images.pexels.com/photos/268533/pexels-photo-268533.jpeg?auto=compress&amp;cs=tinysrgb&amp;dpr=1&amp;w=500\" \n",
    "srcset=\"https://images.pexels.com/photos/268533/pexels-photo-268533.jpeg?auto=compress&amp;cs=tinysrgb&amp;w=150 150w, https://images.pexels.com/photos/268533/pexels-photo-268533.jpeg?auto=compress&amp;cs=tinysrgb&amp;w=300 300w, https://images.pexels.com/photos/268533/pexels-photo-268533.jpeg?auto=compress&amp;cs=tinysrgb&amp;w=400 400w, https://images.pexels.com/photos/268533/pexels-photo-268533.jpeg?auto=compress&amp;cs=tinysrgb&amp;w=600 600w, https://images.pexels.com/photos/268533/pexels-photo-268533.jpeg?auto=compress&amp;cs=tinysrgb&amp;w=800 800w, https://images.pexels.com/photos/268533/pexels-photo-268533.jpeg?auto=compress&amp;cs=tinysrgb&amp;w=1200 1200w, https://images.pexels.com/photos/268533/pexels-photo-268533.jpeg?auto=compress&amp;cs=tinysrgb&amp;w=1600 1600w\" \n",
    "sizes=\"(max-width: 650px) calc((100vw - 45px) / 2), (max-width: 900px) calc((100vw - 45px) / 2), (max-width: 1440px) calc((100vw - 100px) / 3), (max-width: 1600px) calc((100vw - 200px) / 3), calc((1600px - 200px) / 3)\" \n",
    "alt=\"Free Green Tree Stock Photo\" class=\"spacing_noMargin__F5u9R PhotoZoom_image__2c8qM\"\n",
    "width=\"1920\"\n",
    "height=\"1278\" style=\"transform: none; background: rgb(65, 77, 98);\">"
   ]
  },
  {
   "cell_type": "code",
   "execution_count": 10,
   "id": "96f608d1-835c-49b8-813e-10e91351b27e",
   "metadata": {},
   "outputs": [
    {
     "ename": "SyntaxError",
     "evalue": "invalid syntax (973645711.py, line 1)",
     "output_type": "error",
     "traceback": [
      "\u001b[1;36m  Cell \u001b[1;32mIn[10], line 1\u001b[1;36m\u001b[0m\n\u001b[1;33m    <img data-ils=\"4\"\u001b[0m\n\u001b[1;37m    ^\u001b[0m\n\u001b[1;31mSyntaxError\u001b[0m\u001b[1;31m:\u001b[0m invalid syntax\n"
     ]
    }
   ],
   "source": [
    "<img data-ils=\"4\" \n",
    "jsaction=\"rcuQ6b:trigger.M8vzZb;\" \n",
    "class=\"rg_i Q4LuWd\" \n",
    "jsname=\"Q4LuWd\" \n",
    "width=\"284\" \n",
    "height=\"178\" \n",
    "alt=\"Make Your Screen Stand Out with Free Background Images! · Pexels · Free  Stock Photos\" \n",
    "src=\"https://encrypted-tbn0.gstatic.com/images?q=tbn:ANd9GcT2BjFcg6Sp0FkUslmmrCuWQQPFlTn0e23efg&amp;usqp=CAU\">"
   ]
  },
  {
   "cell_type": "code",
   "execution_count": 13,
   "id": "f1d704f2-33aa-4507-9b5e-f28fe2a6c09d",
   "metadata": {},
   "outputs": [
    {
     "ename": "SyntaxError",
     "evalue": "invalid syntax (605974708.py, line 1)",
     "output_type": "error",
     "traceback": [
      "\u001b[1;36m  Cell \u001b[1;32mIn[13], line 1\u001b[1;36m\u001b[0m\n\u001b[1;33m    <img data-ils=\"4\"\u001b[0m\n\u001b[1;37m    ^\u001b[0m\n\u001b[1;31mSyntaxError\u001b[0m\u001b[1;31m:\u001b[0m invalid syntax\n"
     ]
    }
   ],
   "source": [
    "<img data-ils=\"4\"\n",
    "jsaction=\"rcuQ6b:trigger.M8vzZb;\"\n",
    "class=\"rg_i Q4LuWd\" jsname=\"Q4LuWd\" \n",
    "width=\"283\" \n",
    "height=\"178\" \n",
    "alt=\"PureRef\" \n",
    "src=\"https://encrypted-tbn0.gstatic.com/images?q=tbn:ANd9GcTfIdeedIaI6-38gkUVGVgfmTCOKypmAcME-g&amp;usqp=CAU\">"
   ]
  },
  {
   "cell_type": "code",
   "execution_count": null,
   "id": "5e1b0aab-87c2-4219-81a2-9aba2c7c73e5",
   "metadata": {},
   "outputs": [],
   "source": []
  }
 ],
 "metadata": {
  "kernelspec": {
   "display_name": "Python 3 (ipykernel)",
   "language": "python",
   "name": "python3"
  },
  "language_info": {
   "codemirror_mode": {
    "name": "ipython",
    "version": 3
   },
   "file_extension": ".py",
   "mimetype": "text/x-python",
   "name": "python",
   "nbconvert_exporter": "python",
   "pygments_lexer": "ipython3",
   "version": "3.11.7"
  }
 },
 "nbformat": 4,
 "nbformat_minor": 5
}
