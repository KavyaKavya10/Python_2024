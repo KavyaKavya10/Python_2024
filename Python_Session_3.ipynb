{
 "cells": [
  {
   "cell_type": "markdown",
   "id": "96eeff2d-d20e-4684-bfd9-ceb2392c3239",
   "metadata": {},
   "source": [
    "**type casting**\n",
    "- convert one data type to another data type is called as type casting \n",
    "\n",
    "- which means we want to convert \n",
    "\n",
    "- integer type to all other(float, str,bool) data types\n",
    "\n",
    "- float type to all other(int, str,bool) data types \n",
    "\n",
    "- str type to all other(float, int,bool) data types \n",
    "\n",
    "- bool type to all other(float, str,int) data types "
   ]
  },
  {
   "cell_type": "markdown",
   "id": "68c8ec11-2494-486c-8a6c-e798d73236f9",
   "metadata": {},
   "source": [
    "**Integer to other data types**"
   ]
  },
  {
   "cell_type": "markdown",
   "id": "1d3c3b5e-75f4-4f39-b075-1139eb3c97cd",
   "metadata": {},
   "source": [
    "$int -folt$"
   ]
  },
  {
   "cell_type": "code",
   "execution_count": 9,
   "id": "72eaf997-7837-4d78-8b0a-70c6cedb452e",
   "metadata": {},
   "outputs": [
    {
     "data": {
      "text/plain": [
       "int"
      ]
     },
     "execution_count": 9,
     "metadata": {},
     "output_type": "execute_result"
    }
   ],
   "source": [
    "num=100\n",
    "type(num)"
   ]
  },
  {
   "cell_type": "code",
   "execution_count": 2,
   "id": "fc2261db-b897-4a3c-bd28-07a954702408",
   "metadata": {},
   "outputs": [
    {
     "data": {
      "text/plain": [
       "100.0"
      ]
     },
     "execution_count": 2,
     "metadata": {},
     "output_type": "execute_result"
    }
   ],
   "source": [
    "float(num)"
   ]
  },
  {
   "cell_type": "code",
   "execution_count": 3,
   "id": "75ce5a90-0032-4949-bae0-d0f441804a85",
   "metadata": {},
   "outputs": [
    {
     "data": {
      "text/plain": [
       "float"
      ]
     },
     "execution_count": 3,
     "metadata": {},
     "output_type": "execute_result"
    }
   ],
   "source": [
    "float_num=float(num)\n",
    "type(float_num)"
   ]
  },
  {
   "cell_type": "markdown",
   "id": "8b2880fb-b8d7-48db-940e-5584d07c5d7f",
   "metadata": {},
   "source": [
    "$int-str$"
   ]
  },
  {
   "cell_type": "code",
   "execution_count": 12,
   "id": "59a5c5e9-d6c0-4562-aa10-a2bd9e2bf11d",
   "metadata": {},
   "outputs": [
    {
     "data": {
      "text/plain": [
       "'100'"
      ]
     },
     "execution_count": 12,
     "metadata": {},
     "output_type": "execute_result"
    }
   ],
   "source": [
    "str_num=str(num)\n",
    "str_num"
   ]
  },
  {
   "cell_type": "code",
   "execution_count": 13,
   "id": "08cc0c93-d866-41d1-a692-66232fd82bc1",
   "metadata": {},
   "outputs": [
    {
     "data": {
      "text/plain": [
       "str"
      ]
     },
     "execution_count": 13,
     "metadata": {},
     "output_type": "execute_result"
    }
   ],
   "source": [
    "type(str_n)"
   ]
  },
  {
   "cell_type": "code",
   "execution_count": 14,
   "id": "16dbce39-464c-4c74-9c8c-69edf90c695d",
   "metadata": {},
   "outputs": [
    {
     "data": {
      "text/plain": [
       "True"
      ]
     },
     "execution_count": 14,
     "metadata": {},
     "output_type": "execute_result"
    }
   ],
   "source": [
    "bool(num)"
   ]
  },
  {
   "cell_type": "code",
   "execution_count": 15,
   "id": "5bd94253-bb3f-43db-aded-9c2e1f6df461",
   "metadata": {},
   "outputs": [
    {
     "data": {
      "text/plain": [
       "bool"
      ]
     },
     "execution_count": 15,
     "metadata": {},
     "output_type": "execute_result"
    }
   ],
   "source": [
    "a=bool(num)\n",
    "type(a)"
   ]
  },
  {
   "cell_type": "code",
   "execution_count": 17,
   "id": "79b1bde7-2d02-44a7-ab12-8b3e8dd0234f",
   "metadata": {},
   "outputs": [
    {
     "data": {
      "text/plain": [
       "(200.0, '200', True)"
      ]
     },
     "execution_count": 17,
     "metadata": {},
     "output_type": "execute_result"
    }
   ],
   "source": [
    "float(200), str(200),bool(200)"
   ]
  },
  {
   "cell_type": "code",
   "execution_count": 2,
   "id": "31064234-f5b1-4b27-b7af-fcf77e158185",
   "metadata": {},
   "outputs": [
    {
     "data": {
      "text/plain": [
       "False"
      ]
     },
     "execution_count": 2,
     "metadata": {},
     "output_type": "execute_result"
    }
   ],
   "source": [
    "# when integer of boolean converstion become false\n",
    "bool(0)"
   ]
  },
  {
   "cell_type": "markdown",
   "id": "00f1204d-c2d8-4e47-ae89-5662817ce955",
   "metadata": {},
   "source": [
    "**Note**\n",
    "\n",
    "- Integer=0 then only boolean converstion becomes false\n",
    "\n",
    "- otherwise for any positive number or any negative number it becomes true"
   ]
  },
  {
   "cell_type": "markdown",
   "id": "2e2abc69-a21b-4c99-b24a-48086e69d8d6",
   "metadata": {},
   "source": [
    "**Float to another data type**"
   ]
  },
  {
   "cell_type": "code",
   "execution_count": 20,
   "id": "8717dd23-8715-4f85-8522-c8adb0226a39",
   "metadata": {},
   "outputs": [
    {
     "data": {
      "text/plain": [
       "True"
      ]
     },
     "execution_count": 20,
     "metadata": {},
     "output_type": "execute_result"
    }
   ],
   "source": [
    "int(200.5) # 200\n",
    "str(200.5)  # '200.5'\n",
    "bool(200.5)  # True"
   ]
  },
  {
   "cell_type": "code",
   "execution_count": 21,
   "id": "5cda0938-8cc3-490e-b5c9-138790049b51",
   "metadata": {},
   "outputs": [
    {
     "data": {
      "text/plain": [
       "(200, '200.5', True)"
      ]
     },
     "execution_count": 21,
     "metadata": {},
     "output_type": "execute_result"
    }
   ],
   "source": [
    "int(200.5),str(200.5),bool(200.5)"
   ]
  },
  {
   "cell_type": "markdown",
   "id": "6554ce32-afe3-43fc-a3c4-5f8aa01fa4b8",
   "metadata": {},
   "source": [
    "**string to another data type**"
   ]
  },
  {
   "cell_type": "code",
   "execution_count": 2,
   "id": "112c396d-c949-40cc-9f0a-084829f80e6b",
   "metadata": {},
   "outputs": [],
   "source": [
    "# case-1\n",
    "str='apple'\n",
    "# case-2\n",
    "str1='10'\n",
    "# case-3\n",
    "str2='10.5'"
   ]
  },
  {
   "cell_type": "markdown",
   "id": "9a9e5e33-5412-47e8-9f53-e08091d2b5ae",
   "metadata": {},
   "source": [
    "- float is the boss \n",
    "\n",
    "- float of any value either it is integer in string format\n",
    "\n",
    "- or float in string format will works\n",
    "\n",
    "- but integer will works only for integer in string format\n",
    "\n",
    "- integer type casting will fail for float in string format"
   ]
  },
  {
   "cell_type": "markdown",
   "id": "abcd711b-12e0-4869-a90d-771bb9eafe3c",
   "metadata": {},
   "source": [
    "- empty string of boolean give false\n",
    "\n",
    "- False means nothing either 0 or empty string"
   ]
  },
  {
   "cell_type": "code",
   "execution_count": null,
   "id": "2e23f7ab-0796-4703-a285-a51ec2bc8b5a",
   "metadata": {},
   "outputs": [],
   "source": [
    "# boolean to other type"
   ]
  },
  {
   "cell_type": "code",
   "execution_count": 29,
   "id": "23253d15-bcc1-4e8d-83f7-12be5d5feb2b",
   "metadata": {},
   "outputs": [
    {
     "data": {
      "text/plain": [
       "1"
      ]
     },
     "execution_count": 29,
     "metadata": {},
     "output_type": "execute_result"
    }
   ],
   "source": [
    "int(True)"
   ]
  },
  {
   "cell_type": "code",
   "execution_count": 30,
   "id": "f81b965c-72d4-406e-ae03-b8f64010c673",
   "metadata": {},
   "outputs": [
    {
     "data": {
      "text/plain": [
       "'True'"
      ]
     },
     "execution_count": 30,
     "metadata": {},
     "output_type": "execute_result"
    }
   ],
   "source": [
    "str(True)"
   ]
  },
  {
   "cell_type": "code",
   "execution_count": 31,
   "id": "b5f51575-b67f-4c71-80fd-20af6836ed6c",
   "metadata": {},
   "outputs": [
    {
     "data": {
      "text/plain": [
       "1.0"
      ]
     },
     "execution_count": 31,
     "metadata": {},
     "output_type": "execute_result"
    }
   ],
   "source": [
    "float(True)"
   ]
  },
  {
   "cell_type": "code",
   "execution_count": 32,
   "id": "33b82c3a-5099-4633-a027-d5a37ba08e80",
   "metadata": {},
   "outputs": [
    {
     "data": {
      "text/plain": [
       "0"
      ]
     },
     "execution_count": 32,
     "metadata": {},
     "output_type": "execute_result"
    }
   ],
   "source": [
    "int(False)"
   ]
  },
  {
   "cell_type": "code",
   "execution_count": 33,
   "id": "74ded01d-c81b-47da-944b-4b7c394a4043",
   "metadata": {},
   "outputs": [
    {
     "data": {
      "text/plain": [
       "0.0"
      ]
     },
     "execution_count": 33,
     "metadata": {},
     "output_type": "execute_result"
    }
   ],
   "source": [
    "float(False)"
   ]
  },
  {
   "cell_type": "code",
   "execution_count": 34,
   "id": "1e409d33-79ee-4f4a-9775-a134cc604bed",
   "metadata": {},
   "outputs": [
    {
     "data": {
      "text/plain": [
       "'False'"
      ]
     },
     "execution_count": 34,
     "metadata": {},
     "output_type": "execute_result"
    }
   ],
   "source": [
    "str(False)"
   ]
  },
  {
   "cell_type": "code",
   "execution_count": null,
   "id": "190cd36f-a6fb-462b-8688-0910f16481b3",
   "metadata": {},
   "outputs": [],
   "source": [
    "###### int to other ####\n",
    "float(100)\n",
    "str(100)\n",
    "bool(100)\n",
    "\n",
    "##### float to other####\n",
    "int(100.5)\n",
    "str(100.5)\n",
    "bool(100.5)\n",
    "\n",
    "##### str to other######\n",
    "int('apple')\n",
    "float('apple')\n",
    "bool('apple')\n",
    "\n",
    "####### boolean to other######\n",
    "int(True)\n",
    "int(False)\n",
    "float(True)\n",
    "float(False)\n",
    "str(True)\n",
    "str(False)"
   ]
  },
  {
   "cell_type": "code",
   "execution_count": 36,
   "id": "a1d800d9-f954-403c-89d5-61cb2e856e91",
   "metadata": {},
   "outputs": [
    {
     "name": "stdout",
     "output_type": "stream",
     "text": [
      "10\n"
     ]
    }
   ],
   "source": [
    "print(10)"
   ]
  },
  {
   "cell_type": "code",
   "execution_count": 37,
   "id": "44f139fe-ce82-4718-929a-e18e038ff236",
   "metadata": {},
   "outputs": [
    {
     "name": "stdout",
     "output_type": "stream",
     "text": [
      "python\n"
     ]
    }
   ],
   "source": [
    "print('python')"
   ]
  },
  {
   "cell_type": "code",
   "execution_count": 39,
   "id": "275ec157-8415-4981-90b9-1b3e05bca9e8",
   "metadata": {},
   "outputs": [
    {
     "name": "stdout",
     "output_type": "stream",
     "text": [
      "10 10.5 naresh IT True\n"
     ]
    }
   ],
   "source": [
    "print(10,10.5,'naresh IT',True)"
   ]
  },
  {
   "cell_type": "code",
   "execution_count": 40,
   "id": "e9f0e626-b3ed-4b08-b6db-4b55717c7a13",
   "metadata": {},
   "outputs": [
    {
     "name": "stdout",
     "output_type": "stream",
     "text": [
      "10 20\n"
     ]
    }
   ],
   "source": [
    "n1=10\n",
    "n2=20\n",
    "print(n1,n2)"
   ]
  },
  {
   "cell_type": "code",
   "execution_count": 41,
   "id": "ce239b21-9d87-4594-a79e-80d58927073b",
   "metadata": {},
   "outputs": [
    {
     "name": "stdout",
     "output_type": "stream",
     "text": [
      "10\n",
      "20\n"
     ]
    },
    {
     "data": {
      "text/plain": [
       "(None, None)"
      ]
     },
     "execution_count": 41,
     "metadata": {},
     "output_type": "execute_result"
    }
   ],
   "source": [
    "print(10),print(20)"
   ]
  },
  {
   "cell_type": "code",
   "execution_count": 42,
   "id": "fed8bef8-c61a-4812-b581-cf493c67bc77",
   "metadata": {},
   "outputs": [
    {
     "name": "stdout",
     "output_type": "stream",
     "text": [
      "10\n",
      "20\n"
     ]
    }
   ],
   "source": [
    "print(10)\n",
    "print(20)"
   ]
  },
  {
   "cell_type": "code",
   "execution_count": 47,
   "id": "32a9f6c3-5528-4f2c-a8ff-690bbe8cec8e",
   "metadata": {},
   "outputs": [
    {
     "name": "stdout",
     "output_type": "stream",
     "text": [
      "the addition of 10 and 20 is 30\n",
      "the addition of a and b is c\n",
      "the addition of 100 and 200 is 300\n"
     ]
    }
   ],
   "source": [
    "a=100\n",
    "b=200\n",
    "c=a+b\n",
    "print(\"the addition of 10 and 20 is 30\")\n",
    "print(\"the addition of a and b is c\")\n",
    "print(\"the addition of\" ,a, \"and\", b, \"is\", c)"
   ]
  },
  {
   "cell_type": "markdown",
   "id": "09ab94f9-e564-4533-a1fe-03b7b4ffc3b7",
   "metadata": {},
   "source": [
    "**format**"
   ]
  },
  {
   "cell_type": "code",
   "execution_count": 51,
   "id": "0e76cab5-bb4e-4c03-bfcc-87027368d045",
   "metadata": {},
   "outputs": [
    {
     "name": "stdout",
     "output_type": "stream",
     "text": [
      "the addition of 100 and 200 is 300\n"
     ]
    }
   ],
   "source": [
    "a=100\n",
    "b=200\n",
    "c=a+b\n",
    "print(\"the addition of {} and {} is {}\".format(a,b,c))"
   ]
  },
  {
   "cell_type": "code",
   "execution_count": 53,
   "id": "3ab3c422-7fd6-4d9b-a92e-234001355736",
   "metadata": {},
   "outputs": [
    {
     "name": "stdout",
     "output_type": "stream",
     "text": [
      "My name is python,Im 10 years old Im from Hyd\n"
     ]
    }
   ],
   "source": [
    "# read your name\n",
    "# read your age\n",
    "# read your city\n",
    "# my name is python,Im  10 years old Im from Hyd\n",
    "name='python'\n",
    "age=10\n",
    "city='Hyd'\n",
    "print(\"My name is {},Im {} years old Im from {}\".format(name,age,city))"
   ]
  },
  {
   "cell_type": "code",
   "execution_count": 56,
   "id": "59001df7-fbe0-42f0-aba0-d08c6475e017",
   "metadata": {},
   "outputs": [
    {
     "name": "stdout",
     "output_type": "stream",
     "text": [
      "My name is kavya, I want to become data scientist in google company\n"
     ]
    }
   ],
   "source": [
    "# employee name\n",
    "# employee role\n",
    "# company\n",
    "employee_name='kavya'\n",
    "employee_role='data scientist'\n",
    "company='google'\n",
    "print(\"My name is {}, I want to become {} in {} company\".format(employee_name,employee_role,company))\n"
   ]
  },
  {
   "cell_type": "code",
   "execution_count": 58,
   "id": "71217135-55f1-489d-b217-8c1bf066490f",
   "metadata": {},
   "outputs": [
    {
     "name": "stdout",
     "output_type": "stream",
     "text": [
      "the addition of 100 and 200 is 300\n"
     ]
    }
   ],
   "source": []
  },
  {
   "cell_type": "markdown",
   "id": "1fc3487b-75d0-43b7-a9c7-ee4875cf9eea",
   "metadata": {},
   "source": [
    "**f string**"
   ]
  },
  {
   "cell_type": "code",
   "execution_count": 59,
   "id": "2c92f507-05ed-4046-825c-9c00e6e9d8a2",
   "metadata": {},
   "outputs": [
    {
     "name": "stdout",
     "output_type": "stream",
     "text": [
      "the addition of 100 and 200 is 300\n"
     ]
    }
   ],
   "source": [
    "a=100\n",
    "b=200\n",
    "c=a+b\n",
    "print(f\"the addition of {a} and {b} is {c}\")"
   ]
  },
  {
   "cell_type": "code",
   "execution_count": 60,
   "id": "ba10412d-c33a-4fd7-9ccd-c8cadf064398",
   "metadata": {},
   "outputs": [
    {
     "name": "stdout",
     "output_type": "stream",
     "text": [
      "My name is python,Im 10 years old Im from Hyd\n"
     ]
    }
   ],
   "source": [
    "name='python'\n",
    "age=10\n",
    "city='Hyd'\n",
    "print(f\"My name is {name},Im {age} years old Im from {city}\")"
   ]
  },
  {
   "cell_type": "code",
   "execution_count": null,
   "id": "be4533e1-12dc-4526-b1de-33209259d89b",
   "metadata": {},
   "outputs": [],
   "source": [
    " "
   ]
  }
 ],
 "metadata": {
  "kernelspec": {
   "display_name": "Python 3 (ipykernel)",
   "language": "python",
   "name": "python3"
  },
  "language_info": {
   "codemirror_mode": {
    "name": "ipython",
    "version": 3
   },
   "file_extension": ".py",
   "mimetype": "text/x-python",
   "name": "python",
   "nbconvert_exporter": "python",
   "pygments_lexer": "ipython3",
   "version": "3.11.7"
  }
 },
 "nbformat": 4,
 "nbformat_minor": 5
}
