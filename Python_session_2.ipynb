{
 "cells": [
  {
   "cell_type": "code",
   "execution_count": 1,
   "id": "96a9e7c0-1568-4a43-8fb4-04be6452c1a2",
   "metadata": {},
   "outputs": [
    {
     "data": {
      "text/plain": [
       "int"
      ]
     },
     "execution_count": 1,
     "metadata": {},
     "output_type": "execute_result"
    }
   ],
   "source": [
    "n=100\n",
    "type(n)"
   ]
  },
  {
   "cell_type": "markdown",
   "id": "b126fc9f-418f-4e2c-b5ae-44c16d72461e",
   "metadata": {},
   "source": [
    "- binary representation\n",
    "\n",
    "- octa representation\n",
    "\n",
    "- hexa representation"
   ]
  },
  {
   "cell_type": "code",
   "execution_count": 2,
   "id": "943c6349-5bdd-4fc9-8aba-2b4905fad9e5",
   "metadata": {},
   "outputs": [
    {
     "data": {
      "text/plain": [
       "200"
      ]
     },
     "execution_count": 2,
     "metadata": {},
     "output_type": "execute_result"
    }
   ],
   "source": [
    "10000\n",
    "100\n",
    "200"
   ]
  },
  {
   "cell_type": "markdown",
   "id": "38402e56-8c03-4feb-85dc-849fa6af50f5",
   "metadata": {},
   "source": [
    "# Binary\n",
    "\n",
    "- bi means 2\n",
    "\n",
    "- so it requires 2 digits\n",
    "\n",
    "- generally we have 0 1 2 3 4 5 6 7 8 9 \n",
    "\n",
    "- so it will represent with only 0 and 1\n",
    "\n",
    "- representation is 0b10, 0b01111, 0B111\n",
    "\n",
    "- wrong representation is 0b102, 0b007\n",
    "\n",
    " 8 4 2 1 "
   ]
  },
  {
   "cell_type": "code",
   "execution_count": 3,
   "id": "ffcb8bd7-8c9d-4dde-809c-a513df3c7102",
   "metadata": {},
   "outputs": [
    {
     "data": {
      "text/plain": [
       "5"
      ]
     },
     "execution_count": 3,
     "metadata": {},
     "output_type": "execute_result"
    }
   ],
   "source": [
    "0b101"
   ]
  },
  {
   "cell_type": "code",
   "execution_count": 4,
   "id": "ac8665a7-5370-40f3-a593-ae19f6ee7f22",
   "metadata": {},
   "outputs": [
    {
     "data": {
      "text/plain": [
       "9"
      ]
     },
     "execution_count": 4,
     "metadata": {},
     "output_type": "execute_result"
    }
   ],
   "source": [
    "0b1001"
   ]
  },
  {
   "cell_type": "code",
   "execution_count": 5,
   "id": "fdd3f420-919f-4218-ab71-de98894df783",
   "metadata": {},
   "outputs": [
    {
     "data": {
      "text/plain": [
       "15"
      ]
     },
     "execution_count": 5,
     "metadata": {},
     "output_type": "execute_result"
    }
   ],
   "source": [
    "0b1111"
   ]
  },
  {
   "cell_type": "code",
   "execution_count": 1,
   "id": "f7957975-0277-4385-974d-03bb38479e08",
   "metadata": {},
   "outputs": [
    {
     "data": {
      "text/plain": [
       "111"
      ]
     },
     "execution_count": 1,
     "metadata": {},
     "output_type": "execute_result"
    }
   ],
   "source": [
    "111"
   ]
  },
  {
   "cell_type": "code",
   "execution_count": 7,
   "id": "59d40faf-193f-46a1-a716-90e89ab946a9",
   "metadata": {},
   "outputs": [
    {
     "data": {
      "text/plain": [
       "7"
      ]
     },
     "execution_count": 7,
     "metadata": {},
     "output_type": "execute_result"
    }
   ],
   "source": [
    "0b111"
   ]
  },
  {
   "cell_type": "code",
   "execution_count": null,
   "id": "a3087dbe-bef7-4a3c-9e71-b705e8f02d26",
   "metadata": {},
   "outputs": [],
   "source": [
    "8  4  2  1  num\n",
    "0  0  0  0   0\n",
    "0  0  0  1   1\n",
    "0  0  1  0   2\n",
    "0  0  1  1   3\n",
    "0  1  0  0   4\n",
    "0  1  0  1   5\n",
    "0  1  1  0   6\n",
    "0  1  1  1   7\n",
    "1  0  0  0   8\n",
    "1  0  0  1   9\n",
    "1  0  1  0   10\n",
    "1  0  1  1   11\n",
    "1  1  0  0   12\n",
    "1  1  0  1   13\n",
    "1  1  1  0   14\n",
    "1  1  1  1   15\n"
   ]
  },
  {
   "cell_type": "code",
   "execution_count": 8,
   "id": "4f94c597-5ea0-425c-9bb5-64f4e7e743de",
   "metadata": {},
   "outputs": [
    {
     "data": {
      "text/plain": [
       "29"
      ]
     },
     "execution_count": 8,
     "metadata": {},
     "output_type": "execute_result"
    }
   ],
   "source": [
    "0b11101"
   ]
  },
  {
   "cell_type": "code",
   "execution_count": 9,
   "id": "2506c5de-41c8-4208-ad46-d2ecb4753fdb",
   "metadata": {},
   "outputs": [
    {
     "data": {
      "text/plain": [
       "59"
      ]
     },
     "execution_count": 9,
     "metadata": {},
     "output_type": "execute_result"
    }
   ],
   "source": [
    "0b111011"
   ]
  },
  {
   "cell_type": "markdown",
   "id": "d7d858c4-f58f-4f93-aa9a-bd485d1556a2",
   "metadata": {},
   "source": [
    "**octal**\n",
    "\n",
    "- octa means 8\n",
    "\n",
    "- so it requires 8 digits\n",
    "\n",
    "- generally we have 0 1 2 3 4 5 6 7 8 9\n",
    "\n",
    "- so it will represent with only 0 and 1\n",
    "\n",
    "- representation is 0o123, 0o012345, 0o7654321\n",
    "\n",
    "- wrong representation is 0b108, 0o987"
   ]
  },
  {
   "cell_type": "code",
   "execution_count": 10,
   "id": "74088dc6-4c6d-42ba-9893-babf408c8e21",
   "metadata": {},
   "outputs": [
    {
     "data": {
      "text/plain": [
       "83"
      ]
     },
     "execution_count": 10,
     "metadata": {},
     "output_type": "execute_result"
    }
   ],
   "source": [
    "0o123"
   ]
  },
  {
   "cell_type": "code",
   "execution_count": 11,
   "id": "d725f68b-4118-47f6-a6c3-f49370d6f656",
   "metadata": {},
   "outputs": [
    {
     "data": {
      "text/plain": [
       "668"
      ]
     },
     "execution_count": 11,
     "metadata": {},
     "output_type": "execute_result"
    }
   ],
   "source": [
    "0o1234"
   ]
  },
  {
   "cell_type": "markdown",
   "id": "34441bbd-d3df-4bd4-8108-b65256f98af6",
   "metadata": {},
   "source": [
    "**hexa**\n",
    "\n",
    "- octa means 16\n",
    "\n",
    "- so it requires 16 digits\n",
    "\n",
    "- generally we have 0 1 2 3 4 5 6 7 8 9 A(11) B(12) C(13) D(14) E(15) F(16) \n",
    "\n",
    "- so it will represent with only 0-9 and A-F\n",
    "\n",
    "- representation is 0xF9, 0X0123abc, 0xabc\n",
    "\n",
    "- wrong representation is 0xGH, 0xABCDEFGH"
   ]
  },
  {
   "cell_type": "code",
   "execution_count": 12,
   "id": "cf412e65-7567-40da-b7bd-a7e3fd6fd6d4",
   "metadata": {},
   "outputs": [
    {
     "data": {
      "text/plain": [
       "2748"
      ]
     },
     "execution_count": 12,
     "metadata": {},
     "output_type": "execute_result"
    }
   ],
   "source": [
    "0XABC"
   ]
  },
  {
   "cell_type": "code",
   "execution_count": 13,
   "id": "3b1ee9aa-4051-45ac-8abe-0509dc222f0f",
   "metadata": {},
   "outputs": [
    {
     "data": {
      "text/plain": [
       "4671"
      ]
     },
     "execution_count": 13,
     "metadata": {},
     "output_type": "execute_result"
    }
   ],
   "source": [
    "0X123F"
   ]
  },
  {
   "cell_type": "markdown",
   "id": "3c8ab7a3-e748-4eb7-8bef-5d02485b6086",
   "metadata": {},
   "source": [
    "## float"
   ]
  },
  {
   "cell_type": "code",
   "execution_count": 14,
   "id": "2d38a9cd-4c29-47ec-99b2-0080093f800f",
   "metadata": {},
   "outputs": [
    {
     "data": {
      "text/plain": [
       "float"
      ]
     },
     "execution_count": 14,
     "metadata": {},
     "output_type": "execute_result"
    }
   ],
   "source": [
    "n1=100.5\n",
    "type(n1)"
   ]
  },
  {
   "cell_type": "code",
   "execution_count": 2,
   "id": "dd37f9dd-a84f-430c-b9ee-fb5381a2bfd6",
   "metadata": {},
   "outputs": [
    {
     "data": {
      "text/plain": [
       "(10.0, 100.0, 1000.0, 10000.0)"
      ]
     },
     "execution_count": 2,
     "metadata": {},
     "output_type": "execute_result"
    }
   ],
   "source": [
    "1e1,1e2,1e3,1e4\n",
    "# kep=k*10^p"
   ]
  },
  {
   "cell_type": "code",
   "execution_count": 18,
   "id": "cc520241-ae9c-447a-9ebb-b31401aa0b2f",
   "metadata": {},
   "outputs": [
    {
     "data": {
      "text/plain": [
       "24000.0"
      ]
     },
     "execution_count": 18,
     "metadata": {},
     "output_type": "execute_result"
    }
   ],
   "source": [
    "24e3"
   ]
  },
  {
   "cell_type": "code",
   "execution_count": 21,
   "id": "8375ccde-c697-4962-b30a-e1c42ba7fa42",
   "metadata": {},
   "outputs": [
    {
     "data": {
      "text/plain": [
       "(10.0, 100.0, 100.0, 10000.0)"
      ]
     },
     "execution_count": 21,
     "metadata": {},
     "output_type": "execute_result"
    }
   ],
   "source": [
    "1e+1,1e+2,1e+2,1e+4"
   ]
  },
  {
   "cell_type": "code",
   "execution_count": 22,
   "id": "7fe6cf2b-d1ff-442a-895a-f1e018770c9a",
   "metadata": {},
   "outputs": [
    {
     "data": {
      "text/plain": [
       "0.1"
      ]
     },
     "execution_count": 22,
     "metadata": {},
     "output_type": "execute_result"
    }
   ],
   "source": [
    "1e-1"
   ]
  },
  {
   "cell_type": "code",
   "execution_count": 24,
   "id": "89e3d767-8133-491d-8888-fac8e962c17f",
   "metadata": {},
   "outputs": [
    {
     "data": {
      "text/plain": [
       "0.024"
      ]
     },
     "execution_count": 24,
     "metadata": {},
     "output_type": "execute_result"
    }
   ],
   "source": [
    "24e-3 # 24/1000=0.024"
   ]
  },
  {
   "cell_type": "markdown",
   "id": "626cebe9-9541-4e99-9ad6-3a0152ac7e48",
   "metadata": {},
   "source": [
    "- positive(+) means multiply\n",
    "\n",
    "- negative(-) means divide"
   ]
  },
  {
   "cell_type": "markdown",
   "id": "b88e6e3e-e696-4ef4-85fd-a2bc46bb2915",
   "metadata": {},
   "source": [
    "**strings**"
   ]
  },
  {
   "cell_type": "markdown",
   "id": "706cb09e-1e26-4759-823a-f5582d740d8f",
   "metadata": {},
   "source": [
    "- strings are used to represent the english character generally\n",
    "\n",
    "- strings will represent in\n",
    "\n",
    "    - single quotes\n",
    "\n",
    "    - double quotes\n",
    "\n",
    "    - triple quotes"
   ]
  },
  {
   "cell_type": "code",
   "execution_count": 26,
   "id": "5875ddb4-04da-4be6-9760-58970edc997f",
   "metadata": {},
   "outputs": [
    {
     "data": {
      "text/plain": [
       "str"
      ]
     },
     "execution_count": 26,
     "metadata": {},
     "output_type": "execute_result"
    }
   ],
   "source": [
    "name='python'\n",
    "type(name)"
   ]
  },
  {
   "cell_type": "code",
   "execution_count": 27,
   "id": "ffcba7f4-45ec-4e37-9ae8-1445b6f9841e",
   "metadata": {},
   "outputs": [
    {
     "data": {
      "text/plain": [
       "str"
      ]
     },
     "execution_count": 27,
     "metadata": {},
     "output_type": "execute_result"
    }
   ],
   "source": [
    "name1=\"kavya\"\n",
    "type(name1)"
   ]
  },
  {
   "cell_type": "code",
   "execution_count": 28,
   "id": "ed3e5d31-3c0c-4ccd-90dd-2312448e9597",
   "metadata": {},
   "outputs": [
    {
     "data": {
      "text/plain": [
       "str"
      ]
     },
     "execution_count": 28,
     "metadata": {},
     "output_type": "execute_result"
    }
   ],
   "source": [
    "n='10'\n",
    "type(n)"
   ]
  },
  {
   "cell_type": "markdown",
   "id": "cae44876-cc2c-4bcc-a362-0ac889a86ace",
   "metadata": {},
   "source": [
    "**red colour means strings**\n",
    "\n",
    "**green colour means keywords**\n",
    "\n",
    "**black colour means variables**"
   ]
  },
  {
   "cell_type": "code",
   "execution_count": 8,
   "id": "849e5746-3298-4dc8-aab7-f3e296aa346d",
   "metadata": {},
   "outputs": [],
   "source": [
    "name='python'\n",
    "name2=\"python\""
   ]
  },
  {
   "cell_type": "code",
   "execution_count": 9,
   "id": "f319ee75-477d-42b4-903a-887b5bf200a5",
   "metadata": {},
   "outputs": [
    {
     "data": {
      "text/plain": [
       "'python'"
      ]
     },
     "execution_count": 9,
     "metadata": {},
     "output_type": "execute_result"
    }
   ],
   "source": [
    "name2"
   ]
  },
  {
   "cell_type": "code",
   "execution_count": 35,
   "id": "0f7a1df9-d525-4b6d-af26-42911a527832",
   "metadata": {},
   "outputs": [
    {
     "data": {
      "text/plain": [
       "'python'"
      ]
     },
     "execution_count": 35,
     "metadata": {},
     "output_type": "execute_result"
    }
   ],
   "source": [
    "name"
   ]
  },
  {
   "cell_type": "markdown",
   "id": "05267247-b2f6-414c-98b8-dced66387a88",
   "metadata": {},
   "source": [
    "- output always in single quotes"
   ]
  },
  {
   "cell_type": "code",
   "execution_count": 36,
   "id": "37df5415-d1a2-4ae4-af83-95fc4f9b09d4",
   "metadata": {},
   "outputs": [
    {
     "name": "stdout",
     "output_type": "stream",
     "text": [
      "python\n"
     ]
    }
   ],
   "source": [
    "print(name)"
   ]
  },
  {
   "cell_type": "code",
   "execution_count": 37,
   "id": "6ecdb892-f22d-44f2-be06-4a5c42aa5662",
   "metadata": {},
   "outputs": [
    {
     "name": "stdout",
     "output_type": "stream",
     "text": [
      "python\n"
     ]
    }
   ],
   "source": [
    "print(name2) "
   ]
  },
  {
   "cell_type": "markdown",
   "id": "f2eaa89c-b103-4c14-945b-44885cd3a651",
   "metadata": {},
   "source": [
    "- whenever you print quotes will not visible"
   ]
  },
  {
   "cell_type": "code",
   "execution_count": 38,
   "id": "c1940a90-4e94-4b35-8597-3190dae7c52a",
   "metadata": {},
   "outputs": [
    {
     "name": "stdout",
     "output_type": "stream",
     "text": [
      "i like 'python'\n"
     ]
    }
   ],
   "source": [
    "name=\"i like 'python'\"\n",
    "print(name)"
   ]
  },
  {
   "cell_type": "code",
   "execution_count": 39,
   "id": "ac3c3384-dcd0-46c6-bcb9-44510c3a1b88",
   "metadata": {},
   "outputs": [
    {
     "name": "stdout",
     "output_type": "stream",
     "text": [
      "i like \"python\"\n"
     ]
    }
   ],
   "source": [
    "name='i like \"python\"'\n",
    "print(name)"
   ]
  },
  {
   "cell_type": "markdown",
   "id": "4ed4590e-d742-48b5-9b89-11257bb9112d",
   "metadata": {},
   "source": [
    "***Triple quotes***\n",
    "\n",
    "- Triple quotes is not used for coding\n",
    "\n",
    "- Triple quotes is used to provide the information to the user\n",
    "\n",
    "- In order to provide the information in jupyter notebook we will Markdown\n",
    "\n",
    "- In vscode or pycharm there is no markdown option\n",
    "\n",
    "- Thatswhy the world start used to write the information in triple quotes\n",
    "\n",
    "- This entire process is called Doc String"
   ]
  },
  {
   "cell_type": "code",
   "execution_count": 40,
   "id": "74feeb9b-16ef-423c-81dc-a844ac67a19f",
   "metadata": {},
   "outputs": [
    {
     "data": {
      "text/plain": [
       "'\\nhello\\nim writing python code\\nthis python\\n'"
      ]
     },
     "execution_count": 40,
     "metadata": {},
     "output_type": "execute_result"
    }
   ],
   "source": [
    "\"\"\"\n",
    "hello\n",
    "im writing python code\n",
    "this python\n",
    "\"\"\""
   ]
  },
  {
   "cell_type": "markdown",
   "id": "b8fec34c-46d8-44d7-9e79-9e56e41cb1e7",
   "metadata": {},
   "source": [
    "**Boolean**"
   ]
  },
  {
   "cell_type": "code",
   "execution_count": 42,
   "id": "ecff4bff-d84c-48e8-b9f7-e0724a345d92",
   "metadata": {},
   "outputs": [
    {
     "data": {
      "text/plain": [
       "bool"
      ]
     },
     "execution_count": 42,
     "metadata": {},
     "output_type": "execute_result"
    }
   ],
   "source": [
    "value=True\n",
    "type(value)"
   ]
  },
  {
   "cell_type": "code",
   "execution_count": 43,
   "id": "9046bfec-d821-4324-ad22-ad5f31b88c90",
   "metadata": {},
   "outputs": [
    {
     "data": {
      "text/plain": [
       "bool"
      ]
     },
     "execution_count": 43,
     "metadata": {},
     "output_type": "execute_result"
    }
   ],
   "source": [
    "val=False\n",
    "type(val)"
   ]
  },
  {
   "cell_type": "code",
   "execution_count": 44,
   "id": "ed3cc446-f41f-431e-bfe7-be35f9c39194",
   "metadata": {},
   "outputs": [],
   "source": [
    "true=\"True\"\n",
    "false=False\n",
    "\n",
    "# true and false are variables\n",
    "# type true is String\n",
    "# type false is boolean"
   ]
  },
  {
   "cell_type": "code",
   "execution_count": null,
   "id": "41959bd7-62df-4d0f-9566-f425072e19e7",
   "metadata": {},
   "outputs": [],
   "source": []
  }
 ],
 "metadata": {
  "kernelspec": {
   "display_name": "Python 3 (ipykernel)",
   "language": "python",
   "name": "python3"
  },
  "language_info": {
   "codemirror_mode": {
    "name": "ipython",
    "version": 3
   },
   "file_extension": ".py",
   "mimetype": "text/x-python",
   "name": "python",
   "nbconvert_exporter": "python",
   "pygments_lexer": "ipython3",
   "version": "3.11.7"
  }
 },
 "nbformat": 4,
 "nbformat_minor": 5
}
